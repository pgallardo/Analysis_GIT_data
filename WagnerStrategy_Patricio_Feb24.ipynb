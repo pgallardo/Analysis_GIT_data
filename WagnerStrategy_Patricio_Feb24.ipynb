{
  "nbformat": 4,
  "nbformat_minor": 0,
  "metadata": {
    "colab": {
      "provenance": [],
      "authorship_tag": "ABX9TyMQMUuw7mG9gb5h/od5Ifb3",
      "include_colab_link": true
    },
    "kernelspec": {
      "name": "python3",
      "display_name": "Python 3"
    },
    "language_info": {
      "name": "python"
    }
  },
  "cells": [
    {
      "cell_type": "markdown",
      "metadata": {
        "id": "view-in-github",
        "colab_type": "text"
      },
      "source": [
        "<a href=\"https://colab.research.google.com/github/pgallardo/Analysis_GIT_data/blob/master/WagnerStrategy_Patricio_Feb24.ipynb\" target=\"_parent\"><img src=\"https://colab.research.google.com/assets/colab-badge.svg\" alt=\"Open In Colab\"/></a>"
      ]
    },
    {
      "cell_type": "code",
      "source": [
        "#!pip install sympy==1.12.0"
      ],
      "metadata": {
        "id": "7ZRwrD9FV0PE"
      },
      "execution_count": 1,
      "outputs": []
    },
    {
      "cell_type": "code",
      "source": [
        "\n",
        "#cProfile.run('your_function_call()')  # Replace with your function call"
      ],
      "metadata": {
        "id": "4u-ZUzw64e23"
      },
      "execution_count": 2,
      "outputs": []
    },
    {
      "cell_type": "code",
      "source": [
        "#!pip install optuna==3.3.0"
      ],
      "metadata": {
        "id": "E8GXjnJx5RQd"
      },
      "execution_count": 3,
      "outputs": []
    },
    {
      "cell_type": "code",
      "source": [
        "#!pip install line_profiler==3.1.0"
      ],
      "metadata": {
        "id": "IZo37Fez0p0O"
      },
      "execution_count": 4,
      "outputs": []
    },
    {
      "cell_type": "code",
      "source": [
        "#!pip install --upgrade scipy"
      ],
      "metadata": {
        "id": "GvdiYE45Swhr"
      },
      "execution_count": 5,
      "outputs": []
    },
    {
      "cell_type": "code",
      "source": [
        "#!pip install mpmath>=1.3.0"
      ],
      "metadata": {
        "id": "cTJzrl3hK4hq"
      },
      "execution_count": 6,
      "outputs": []
    },
    {
      "cell_type": "code",
      "source": [
        "#!pip install --upgrade scipy"
      ],
      "metadata": {
        "id": "wVvLHYtKkxKy"
      },
      "execution_count": 7,
      "outputs": []
    },
    {
      "cell_type": "code",
      "source": [
        "import math\n",
        "import random\n",
        "import gym\n",
        "import numpy as np\n",
        "from   shapely.geometry import Polygon, Point, LineString\n",
        "import sympy\n",
        "\n",
        "from gym import spaces\n",
        "from stable_baselines3 import PPO\n",
        "from sympy import symbols, Eq, nsolve, diff, solveset, S, sqrt, isprime, factor, Poly, SympifyError, Add\n",
        "\n",
        "from fractions import Fraction\n",
        "\n",
        "import matplotlib.pyplot as plt\n",
        "\n",
        "import torch.nn as nn\n",
        "import torch\n",
        "import torch.optim as optim\n",
        "\n",
        "import time\n",
        "import timeit\n",
        "\n",
        "import scipy\n",
        "from scipy.special import binom # Import binom function\n",
        "import scipy.linalg\n",
        "# Set high precision for AFRP fallback\n",
        "import mpmath\n",
        "mpmath.mp.dps = 100  # Use 100-digit precision for stability\n",
        "\n",
        "from functools import partial\n",
        "import multiprocessing\n",
        "from multiprocessing import Manager"
      ],
      "metadata": {
        "id": "lu_DHB6cdPgt"
      },
      "execution_count": 8,
      "outputs": []
    },
    {
      "cell_type": "code",
      "source": [
        "#All parameters\n",
        "\n",
        "#size of the box\n",
        "max_a = 5 # Upper limit for a\n",
        "max_b = 20 # Upper limit for b\n",
        "max_c = 20 # #Upper limit for c\n",
        "\n",
        "solutions = set()\n",
        "\n",
        "n_generations = 300 # number_generations\n",
        "\n",
        "# NN parameters\n",
        "learning_rate = 4.782414136447625e-05\n",
        "n_layers_NN = 4\n",
        "n_units_NN = 58\n",
        "\n",
        "# Game parameters\n",
        "\n",
        "number_agents_session = 100    # How many parallel searches per generation\n",
        "max_number_steps = 20  # Max step per session -> modifications_per_session\n",
        "elite_percentile = 78\n",
        "super_elite_percentage = 96\n",
        "\n",
        "# Parameters for the reward function\n",
        "bonus             = 1.7445851992715213\n",
        "scaling           = 0.4064981769195448\n",
        "weight_distances  = 0.1704666782187617\n",
        "w1                = 0.6471859193374961\n",
        "w2                = 0.4415219203321601\n"
      ],
      "metadata": {
        "id": "dk-lb34avtjB"
      },
      "execution_count": 9,
      "outputs": []
    },
    {
      "cell_type": "code",
      "source": [
        "\"\"\"\n",
        "The following functions calculate relevant numbers from the polygons and will be used later.\n",
        "\"\"\"\n",
        "\n",
        "def find_lattice_points(vertices):\n",
        "  \"\"\"\n",
        "  vertices has the format [(0, 0), (1, 0), (1, 1), (0, 1)]\n",
        "  \"\"\"\n",
        "  polygon = Polygon(vertices)\n",
        "  min_x, min_y, max_x, max_y = polygon.bounds\n",
        "\n",
        "  #find lattice polytopes in the polygon\n",
        "  lattice_points = []\n",
        "  for x in range(int(min_x), int(max_x) + 1):\n",
        "      for y in range(int(min_y), int(max_y) + 1):\n",
        "          point = Point(x, y)\n",
        "          if polygon.intersects(point):\n",
        "            lattice_points.append( (int(point.x), int(point.y)) )\n",
        "\n",
        "  return lattice_points\n",
        "\n",
        "\n",
        "def count_boundary_lattice_points(vertices):\n",
        "  \"\"\"\n",
        "  Counts the number of lattice points on the boundary of a polygon.\n",
        "\n",
        "  Args:\n",
        "      vertices: A list of tuples representing the polygon vertices [(x1, y1), (x2, y2),...].\n",
        "\n",
        "  Returns:\n",
        "      The number of lattice points on the boundary.\n",
        "  \"\"\"\n",
        "  polygon = Polygon(vertices)\n",
        "  unique_points = set()  # Use a set for efficient checking\n",
        "\n",
        "  for i in range(len(vertices)):\n",
        "      x1, y1 = vertices[i]\n",
        "      x2, y2 = vertices[(i + 1) % len(vertices)]  # Wrap around\n",
        "\n",
        "      line = LineString([(x1, y1), (x2, y2)])\n",
        "\n",
        "      min_x = min(x1, x2)\n",
        "      max_x = max(x1, x2)\n",
        "      min_y = min(y1, y2)\n",
        "      max_y = max(y1, y2)\n",
        "      for x in range(int(min_x), int(max_x) + 1):\n",
        "          for y in range(int(min_y), int(max_y) + 1):\n",
        "              point = Point(x, y)\n",
        "              if line.intersects(point) and polygon.touches(point):\n",
        "                  unique_points.add((x, y))  # Add to the set\n",
        "\n",
        "  return len(unique_points)\n",
        "\n",
        "def compute_boundary_and_area(vertices):\n",
        "  \"\"\"\n",
        "  vertices is a list of tuples (x,y)\n",
        "  Calculates twice the area of a polygon, and the number of points\n",
        "  in the boundary.\n",
        "  \"\"\"\n",
        "  polygon = Polygon(vertices)\n",
        "  twice_area = int(2*polygon.area)\n",
        "  boundary_points  = count_boundary_lattice_points(vertices)\n",
        "\n",
        "  return twice_area, boundary_points\n",
        "\n",
        "\n",
        "\n",
        "def function(task, timeout=1):\n",
        "    def wrapper(queue):\n",
        "        # Put the result into the queue\n",
        "        result = task()\n",
        "        queue.put(result)\n",
        "\n",
        "    # Create a queue to receive the result\n",
        "    queue = multiprocessing.Queue()\n",
        "    # Create a process that runs the wrapper function\n",
        "    process = multiprocessing.Process(target=wrapper, args=(queue,))\n",
        "    process.start()\n",
        "    process.join(timeout)  # Wait for the process to finish within the timeout\n",
        "\n",
        "    if process.is_alive():\n",
        "        #print(\"Task timed out.\")\n",
        "        process.terminate()  # Terminate the process if it exceeds timeout\n",
        "        process.join()       # Make sure the process ends\n",
        "        return None\n",
        "\n",
        "    # Get the result from the queue\n",
        "    if not queue.empty():\n",
        "        return queue.get()\n",
        "    else:\n",
        "        #print(\"No output from the task.\")\n",
        "        return None"
      ],
      "metadata": {
        "id": "3lApk_yIhaCt"
      },
      "execution_count": 10,
      "outputs": []
    },
    {
      "cell_type": "markdown",
      "source": [
        "Here, we construct the reward function. In our case, it has three parts: The constrain relating the area and the number of points in the boundary. Second, the constraint that the kernel of the relevant matrix is nonzero, and third that the polynomial is irreducible."
      ],
      "metadata": {
        "id": "fexGL87gnTpB"
      }
    },
    {
      "cell_type": "code",
      "source": [
        "#Test\n",
        "vertices = [(0,0),(1,0),(7,16), (5,3)]\n",
        "compute_boundary_and_area(vertices)"
      ],
      "metadata": {
        "colab": {
          "base_uri": "https://localhost:8080/"
        },
        "id": "xd8R2Ygfd5dA",
        "outputId": "a1fe2884-a817-4837-adc7-128267776db3"
      },
      "execution_count": 38,
      "outputs": [
        {
          "output_type": "execute_result",
          "data": {
            "text/plain": [
              "(43, 5)"
            ]
          },
          "metadata": {},
          "execution_count": 38
        }
      ]
    },
    {
      "cell_type": "code",
      "source": [
        "def construct_matrix_javier(m, points):\n",
        "    \"\"\"\n",
        "    Constructs the matrix corresponding to the map from lattice points to monomial conditions.\n",
        "\n",
        "    Parameters:\n",
        "    - P: A polygon or polytope object with a method `integral_points()` that returns lattice points as a list of tuples.\n",
        "    - m: order of vanishing\n",
        "\n",
        "    Returns:\n",
        "    - Mat: The constructed matrix.\n",
        "    \"\"\"\n",
        "    # Get lattice points and count them\n",
        "    cnt = len(points)             # Number of lattice points\n",
        "\n",
        "    # Calculate number of conditions\n",
        "    bino = int(binom(m + 1, 2))   # Number of conditions\n",
        "\n",
        "    # Find the curve\n",
        "    D = [(j, k) for j in range(m) for k in range(m) if j + k < m]\n",
        "    Mat = np.zeros((len(points), len(D)), dtype=np.float64)\n",
        "\n",
        "    # Linear map from lattice points to conditions\n",
        "    for row_num, (i, j) in enumerate(points):\n",
        "        for col_num, (a, b) in enumerate(D):\n",
        "            Mat[row_num, col_num] = binom(i, a) * binom(j, b)\n",
        "\n",
        "    return Mat"
      ],
      "metadata": {
        "id": "LHovnWw0soWe"
      },
      "execution_count": 12,
      "outputs": []
    },
    {
      "cell_type": "code",
      "source": [
        "def calculate_row_vector(tuple_list, order_derivative, order_x):\n",
        "    \"\"\"\n",
        "    Computes a row vector of partial derivatives using SymPy.\n",
        "    \"\"\"\n",
        "    if order_derivative < order_x:\n",
        "        raise ValueError(\"order_derivative must be greater than or equal to order_x\")\n",
        "\n",
        "    row_vector = []\n",
        "    for x_j, y_j in tuple_list:\n",
        "        # Compute factorial-like terms safely\n",
        "        x_terms = [x_j - k for k in range(order_x)]\n",
        "        y_terms = [y_j - k for k in range(order_derivative - order_x)]\n",
        "\n",
        "        # If any term is negative, the derivative is 0\n",
        "        if any(t < 0 for t in x_terms + y_terms):\n",
        "            row_vector.append(0)\n",
        "        else:\n",
        "            x_product = sympy.prod(x_terms) if order_x > 0 else 1\n",
        "            y_product = sympy.prod(y_terms) if order_derivative - order_x > 0 else 1\n",
        "            row_vector.append(x_product * y_product)\n",
        "\n",
        "    return sympy.Matrix([row_vector])  # Create a SymPy Matrix\n",
        "\n",
        "def construct_matrix_directly(order_vanishing, tuple_list):\n",
        "    \"\"\"\n",
        "    Constructs a matrix where each row corresponds to a partial derivative.\n",
        "    \"\"\"\n",
        "    num_rows = (order_vanishing * (order_vanishing + 1)) // 2\n",
        "\n",
        "    # Initialize result matrix as a SymPy Matrix\n",
        "    result_matrix = sympy.zeros(num_rows, len(tuple_list))\n",
        "\n",
        "    count = 0\n",
        "    for i in range(order_vanishing):\n",
        "        for j in reversed(range(i + 1)):\n",
        "            row = calculate_row_vector(tuple_list, i, j)\n",
        "            result_matrix[count, :] = row  # Assign row to SymPy Matrix\n",
        "            count += 1\n",
        "\n",
        "    return result_matrix"
      ],
      "metadata": {
        "id": "4mT-vqVj2VmX"
      },
      "execution_count": 13,
      "outputs": []
    },
    {
      "cell_type": "code",
      "source": [
        "def random_linear_combination(vectors):\n",
        "    \"\"\"\n",
        "    Generates a random linear combination of a list of vectors.\n",
        "    Returns the result as an np.array.\n",
        "    \"\"\"\n",
        "    # Convert all vectors to NumPy arrays\n",
        "    vectors = [np.array(vec) for vec in vectors]\n",
        "\n",
        "    num_vectors = len(vectors)\n",
        "\n",
        "    # Generate nonzero random coefficients for the linear combination\n",
        "    coefficients = np.array([x if (x := np.random.randint(-10, 10)) != 0 else np.random.choice([-1, 1])\n",
        "                             for _ in range(num_vectors)])\n",
        "\n",
        "    # Initialize the result as a zero vector of the same shape as the input vectors\n",
        "    linear_combination = np.zeros_like(vectors[0])\n",
        "\n",
        "    # Calculate the linear combination\n",
        "    for i in range(num_vectors):\n",
        "        linear_combination += coefficients[i] * vectors[i]\n",
        "\n",
        "    return linear_combination\n",
        "\n",
        "def calculate_kernel_sympy(matrix):\n",
        "    try:\n",
        "        # Convert the input matrix to a SymPy Matrix for exact arithmetic\n",
        "        M_sympy = sympy.Matrix(matrix)\n",
        "\n",
        "        # Calculate the kernel (null space) using SymPy\n",
        "        kernel_vectors = M_sympy.nullspace()\n",
        "\n",
        "        # Check if the kernel is empty\n",
        "        if not kernel_vectors:\n",
        "            kernel_basis = np.zeros(8,)\n",
        "            return 0, [kernel_basis]\n",
        "\n",
        "        # Convert the kernel vectors to a NumPy array for easier handling\n",
        "        kernel_basis = np.array([np.array(vec).astype(np.float64).flatten() for vec in kernel_vectors]).T\n",
        "        dim_kernel = kernel_basis.shape[1]\n",
        "        vector_basis = [kernel_basis[:,i] for i in range(0, dim_kernel)]\n",
        "\n",
        "        return dim_kernel, vector_basis\n",
        "\n",
        "    except Exception as e:\n",
        "        #raise ValueError(f\"Error calculating kernel: {e}\")\n",
        "        return None, None"
      ],
      "metadata": {
        "id": "Gg9kCsHeLOem"
      },
      "execution_count": 14,
      "outputs": []
    },
    {
      "cell_type": "code",
      "source": [
        "# TESTING\n",
        "\n",
        "#vertices= [(0, 0), (8, 0), (20, 50)]\n",
        "#vertices= [(0, 0), (8, 0), (6, 17)]\n",
        "vertices= [(0, 0), (1, 0), (7, 16), (5,3)]\n",
        "#vertices= [(0, 0), (6, 0), (9, 24)]\n",
        "\n",
        "twice_area, m_vanishing = compute_boundary_and_area(vertices)\n",
        "\n",
        "print(twice_area, m_vanishing, count_boundary_lattice_points(vertices), len(find_lattice_points(vertices)))\n",
        "\n",
        "M = construct_matrix_directly(m_vanishing, find_lattice_points(vertices))\n",
        "\n",
        "print(M.shape,  len(find_lattice_points(vertices)))\n",
        "\n",
        "task = partial(calculate_kernel_sympy, M)\n",
        "result = function(task, timeout=1)\n",
        "if result != None:\n",
        "  dim_kernel, basis_of_kernel = result\n",
        "  print(dim_kernel, len(basis_of_kernel))\n",
        "  generic_vector_kernel = random_linear_combination(basis_of_kernel)\n",
        "  print(len(generic_vector_kernel))\n",
        "else:\n",
        "  print(\"Timeout\")\n",
        "\n"
      ],
      "metadata": {
        "colab": {
          "base_uri": "https://localhost:8080/"
        },
        "id": "cz7o8ivmo2RW",
        "outputId": "5fde351e-c984-4a4d-b225-dadeb38e6344"
      },
      "execution_count": 39,
      "outputs": [
        {
          "output_type": "stream",
          "name": "stdout",
          "text": [
            "43 5 5 26\n",
            "(15, 26) 26\n",
            "11 11\n",
            "26\n"
          ]
        }
      ]
    },
    {
      "cell_type": "code",
      "source": [
        "x, y = symbols('x, y')\n",
        "\n",
        "def create_polynomial(tuples_list, coefficients):\n",
        "    \"\"\"\n",
        "    Creates a generic polynomial from a list of tuples.\n",
        "\n",
        "    Args:\n",
        "        tuples_list: A list of tuples, where each tuple (ai, bi) represents\n",
        "                     the exponents of a monomial x^ai * y^bi.\n",
        "        coefficients: A list of coefficients corresponding to each term.\n",
        "\n",
        "    Returns:\n",
        "        A sympy expression representing the polynomial as a string.\n",
        "    \"\"\"\n",
        "\n",
        "    list_coefficients = coefficients.flatten().tolist()\n",
        "\n",
        "    if len(tuples_list) != len(list_coefficients):\n",
        "        raise ValueError(\"tuples_list and coefficients must have the same length\")\n",
        "\n",
        "    terms = []\n",
        "    for (a, b), coeff in zip(tuples_list, list_coefficients):\n",
        "        terms.append(int(coeff) * x**a * y**b)  # Create each term directly\n",
        "\n",
        "    polynomial = Add(*terms)  # Use Add to combine terms into a polynomial\n",
        "\n",
        "    return polynomial\n",
        "\n",
        "\n",
        "def count_factors(polynomial):\n",
        "    \"\"\"\n",
        "    Counts the number of factors of a SymPy polynomial in two variables.\n",
        "\n",
        "    Args:\n",
        "        polynomial: A SymPy polynomial expression.\n",
        "\n",
        "    Returns:\n",
        "        The number of factors (integer). Returns 0 if there's an issue.\n",
        "    \"\"\"\n",
        "    try:\n",
        "        return int(sum([i[1] for i in sympy.factor_list(polynomial)[1]]))\n",
        "    except (TypeError, SympifyError): # Handle potential issues\n",
        "        return 0"
      ],
      "metadata": {
        "id": "ZaKR4k--LCDj"
      },
      "execution_count": 16,
      "outputs": []
    },
    {
      "cell_type": "code",
      "source": [
        "vertices= [(0, 0), (1, 0), (7, 16), (5,3)]\n",
        "#vertices= [(0, 0), (6, 0), (9, 24)]\n",
        "\n",
        "twice_area, m_vanishing = compute_boundary_and_area(vertices)\n",
        "\n",
        "M = construct_matrix_directly(m_vanishing, find_lattice_points(vertices))\n",
        "generic_vector_kernel = random_linear_combination(basis_of_kernel)\n",
        "P = create_polynomial(find_lattice_points(vertices), generic_vector_kernel)\n",
        "P\n",
        "#factor(P), generic_vector_kernel\n",
        "print(P)\n",
        "print(\"Evaluate at (1,1)\", P.subs([(x, 1), (y, 1)]))\n",
        "\n",
        "print(\" d_x\", sympy.diff(P, x, 1).subs([(x, 1), (y, 1)]))\n",
        "print(\" d_y\", sympy.diff(P, y, 1).subs([(x, 1), (y, 1)]))\n",
        "\n",
        "print(\" d_xx\", sympy.diff(P, x, 2).subs([(x, 1), (y, 1)]))\n",
        "print(\" d_xy\", sympy.diff(P, x, y).subs([(x, 1), (y, 1)]))\n",
        "print(\" d_yy\", sympy.diff(P, y, 2).subs([(x, 1), (y, 1)]))\n",
        "\n",
        "print(\" d_xxx\", sympy.diff(P, x, 3).subs([(x, 1), (y, 1)]))\n",
        "print(\" d_xxy\", sympy.diff(sympy.diff(P, x, 2), y, 1).subs([(x, 1), (y, 1)]))\n",
        "print(\" d_xyy\", sympy.diff(sympy.diff(P, x, 1), y, 2).subs([(x, 1), (y, 1)]))\n",
        "print(\" d_yyy\", sympy.diff(P, y, 3).subs([(x, 1), (y, 1)]))\n",
        "\n",
        "print(\" d_xxxx\", sympy.diff(P, x, 4).subs([(x, 1), (y, 1)]))\n",
        "print(\" d_xxxy\", sympy.diff(sympy.diff(P, x, 3), y, 1).subs([(x, 1), (y, 1)]))\n",
        "print(\" d_xxyy\", sympy.diff(sympy.diff(P, x, 2), y, 2).subs([(x, 1), (y, 1)]))\n",
        "print(\" d_xxyy\", sympy.diff(sympy.diff(P, x, 2), y, 2).subs([(x, 1), (y, 1)]))\n",
        "print(\" d_yyyy\", sympy.diff(P, y, 4).subs([(x, 1), (y, 1)]))\n",
        "\n"
      ],
      "metadata": {
        "colab": {
          "base_uri": "https://localhost:8080/"
        },
        "id": "VSj0lhRxJ07s",
        "outputId": "61a329db-e7c4-4692-c2a9-aae78c1e57d8"
      },
      "execution_count": 40,
      "outputs": [
        {
          "output_type": "stream",
          "name": "stdout",
          "text": [
            "6*x**7*y**16 - 8*x**6*y**13 - x**6*y**12 - 2*x**6*y**11 + 6*x**6*y**10 + 8*x**5*y**10 - 8*x**5*y**9 - 4*x**5*y**8 + 3*x**5*y**7 - 7*x**5*y**6 - 1354*x**5*y**5 + 2287*x**5*y**4 - 993*x**5*y**3 - 4*x**4*y**8 + 272*x**4*y**7 - 4659*x**4*y**6 + 13900*x**4*y**5 - 14060*x**4*y**4 + 4758*x**4*y**3 + 2294*x**3*y**5 - 7477*x**3*y**4 + 7452*x**3*y**3 - 2523*x**3*y**2 + 153*x**2*y**2 - 42*x + 3\n",
            "Evaluate at (1,1) 0\n",
            " d_x 2\n",
            " d_y 2\n",
            " d_xx 8\n",
            " d_xy 10\n",
            " d_yy 8\n",
            " d_xxx 24\n",
            " d_xxy 40\n",
            " d_xyy 40\n",
            " d_yyy 24\n",
            " d_xxxx 48\n",
            " d_xxxy 120\n",
            " d_xxyy 160\n",
            " d_xxyy 160\n",
            " d_yyyy 48\n"
          ]
        }
      ]
    },
    {
      "cell_type": "code",
      "source": [
        "#M"
      ],
      "metadata": {
        "id": "2tU_MHjhU2M9"
      },
      "execution_count": 42,
      "outputs": []
    },
    {
      "cell_type": "code",
      "source": [
        "def distance_to_parabola(a_tuple):\n",
        "  \"\"\"\n",
        "  Consider all possible tuples V=  (2*Area, Number of points in the boundary). Every triangle\n",
        "  maps to a point in this set of tuples.\n",
        "\n",
        "  All the pre-elliptic pairs map to the parabole x=y^2\n",
        "\n",
        "  Give me any triangle. Let (2a, b) be the values of its area and number of points in the\n",
        "  boundary. We have a distance from the point (2a,b) to the parabola x=y^2. We want triangles\n",
        "  in the parabola, so we want to minimmize the distance (or maximize -distance).\n",
        "\n",
        "  Returns: negative distance from (x_val,y_val) to parabola x=y^2\n",
        "    \"\"\"\n",
        "  y = symbols('y', real=True)\n",
        "  z0, z1 = a_tuple\n",
        "\n",
        "  # initial guess for nsolve\n",
        "  # The following formula is showed via Lagrange multiplier\n",
        "  initial_guess = float(abs(z0 + z1)/sqrt(2))\n",
        "  minimizer = nsolve( 2*y**3 + (1 - 2*z0)*y - z1, y, initial_guess )\n",
        "  min_dist = sqrt( (z0 - minimizer**2)**2 + (z1 - minimizer)**2)\n",
        "\n",
        "  # negative distance so that maximizing the reward => getting closer\n",
        "  return float(min_dist)"
      ],
      "metadata": {
        "id": "DvP55JlHijH-"
      },
      "execution_count": 19,
      "outputs": []
    },
    {
      "cell_type": "code",
      "source": [
        "V = [(0,0),(1,0),(7,16),(5,3)]\n",
        "\n",
        "distance_to_parabola((16,4))"
      ],
      "metadata": {
        "id": "xNFqomFOHuc4",
        "colab": {
          "base_uri": "https://localhost:8080/"
        },
        "outputId": "75de4e08-e39c-4237-9d78-f7d35ecc8989"
      },
      "execution_count": 43,
      "outputs": [
        {
          "output_type": "execute_result",
          "data": {
            "text/plain": [
              "0.0"
            ]
          },
          "metadata": {},
          "execution_count": 43
        }
      ]
    },
    {
      "cell_type": "code",
      "source": [
        "mean_rewards = []\n",
        "best_rewards = []\n",
        "losses = []\n",
        "\n",
        "def reward_function_internal(a,b,c, bonus = None, scaling = None, weight_distances = None, w1 = None, w2 = None):\n",
        "  vertices = [(0,0),(a,0),(b,c)]\n",
        "\n",
        "  twice_area, B = compute_boundary_and_area(vertices)\n",
        "\n",
        "  d  = int(abs(twice_area - B**2))\n",
        "  dv = distance_to_parabola((twice_area, B))\n",
        "\n",
        "  # Satisfy the lattice conditions\n",
        "  if d == 0:\n",
        "    reward_lattices =  bonus + weight_distances*np.exp(-d*scaling ) + (1-weight_distances)*np.exp(-dv*scaling )\n",
        "  else:\n",
        "    reward_lattices = weight_distances*np.exp(-d*scaling ) + (1-weight_distances)*np.exp(-dv*scaling)\n",
        "\n",
        "  # Now we check the existence of a kernel\n",
        "  L = find_lattice_points(vertices)\n",
        "  M = construct_matrix_directly(B,L)\n",
        "  df, basis = calculate_kernel_sympy(M)\n",
        "\n",
        "  if basis is None:  # If kernel computation failed\n",
        "    return None\n",
        "\n",
        "  reward_kernel = 1 / (1 + math.exp(-10*( df - 0.5)))\n",
        "\n",
        "  if df == 0:\n",
        "    reward_factors = 0\n",
        "  else:\n",
        "    v = random_linear_combination(basis)\n",
        "    PolyL = create_polynomial(L,v)\n",
        "    number_factors = count_factors(PolyL)\n",
        "    reward_factors = 1 / (1 + np.exp(10 * (number_factors - 1.8)))\n",
        "\n",
        "  return w1*reward_lattices + w2*reward_kernel + (1-w1-w2)*reward_factors\n",
        "\n",
        "max_reward = reward_function_internal(2,5,8, bonus, scaling, weight_distances, w1, w2)\n",
        "reward_function_partial = partial(reward_function_internal, bonus=bonus, scaling=scaling, weight_distances=weight_distances, w1=w1, w2=w2)\n",
        "\n",
        "def reward_function(a,b,c):\n",
        "  task = partial(reward_function_partial, a,b,c)\n",
        "  result = function(task, timeout=1)\n",
        "  if result == None:\n",
        "    return 0\n",
        "  else:\n",
        "    if result == max_reward:\n",
        "      solutions.add((a,b,c))\n",
        "    return result"
      ],
      "metadata": {
        "id": "gPOZZ-cIWWVH"
      },
      "execution_count": 21,
      "outputs": []
    },
    {
      "cell_type": "code",
      "source": [
        "\n",
        "print(vertices)"
      ],
      "metadata": {
        "colab": {
          "base_uri": "https://localhost:8080/"
        },
        "id": "kHwpMweLd_8c",
        "outputId": "e2a32a56-e673-46ce-a4f0-117730acade3"
      },
      "execution_count": 63,
      "outputs": [
        {
          "output_type": "stream",
          "name": "stdout",
          "text": [
            "[(0, 0), (3, 0), (4, 5), (7, 9)]\n"
          ]
        }
      ]
    },
    {
      "cell_type": "code",
      "source": [
        "def reward_function_gen_internal(tuple_entries, bonus = None, scaling = None, weight_distances = None, w1 = None, w2 = None):\n",
        "  vertices = [(0,0),(tuple_entries[0],0)]\n",
        "  if len(tuple_entries) % 2 == 0:\n",
        "    return None\n",
        "  for i in range(0,(len(tuple_entries)-1)//2):\n",
        "    vertices.append((tuple_entries[2*i+1], tuple_entries[2*i+2]))\n",
        "\n",
        "  twice_area, B = compute_boundary_and_area(vertices)\n",
        "\n",
        "  d  = int(abs(twice_area - B**2))\n",
        "  dv = distance_to_parabola((twice_area, B))\n",
        "\n",
        "  # Satisfy the lattice conditions\n",
        "  if d == 0:\n",
        "    reward_lattices =  bonus + weight_distances*np.exp(-d*scaling ) + (1-weight_distances)*np.exp(-dv*scaling )\n",
        "  else:\n",
        "    reward_lattices = weight_distances*np.exp(-d*scaling ) + (1-weight_distances)*np.exp(-dv*scaling)\n",
        "\n",
        "  # Now we check the existence of a kernel\n",
        "  L = find_lattice_points(vertices)\n",
        "  M = construct_matrix_directly(B,L)\n",
        "  df, basis = calculate_kernel_sympy(M)\n",
        "\n",
        "  if basis is None:  # If kernel computation failed\n",
        "    return None\n",
        "\n",
        "  reward_kernel = 1 / (1 + math.exp(-10*( df - 0.5)))\n",
        "\n",
        "  if df == 0:\n",
        "    reward_factors = 0\n",
        "  else:\n",
        "    v = random_linear_combination(basis)\n",
        "    PolyL = create_polynomial(L,v)\n",
        "    number_factors = count_factors(PolyL)\n",
        "    reward_factors = 1 / (1 + np.exp(10 * (number_factors - 1.8)))\n",
        "\n",
        "  return w1*reward_lattices + w2*reward_kernel + (1-w1-w2)*reward_factors\n",
        "\n",
        "max_reward = 2 #reward_function_internal(2,5,8, bonus, scaling, weight_distances, w1, w2)\n",
        "reward_function_gen_partial = partial(reward_function_gen_internal, bonus=bonus, scaling=scaling, weight_distances=weight_distances, w1=w1, w2=w2)\n",
        "\n",
        "def reward_function_gen(tuple_entries):\n",
        "  task = partial(reward_function_gen_partial,tuple_entries)\n",
        "  result = function(task, timeout=1)\n",
        "  if result == None:\n",
        "    return 0\n",
        "  else:\n",
        "    if result == max_reward:\n",
        "      solutions.add(tuple_entries)\n",
        "    return result"
      ],
      "metadata": {
        "id": "EZ3l48u4dUK4"
      },
      "execution_count": 69,
      "outputs": []
    },
    {
      "cell_type": "code",
      "source": [
        "reward_function_gen((3,4,5,6,7,8,9))"
      ],
      "metadata": {
        "colab": {
          "base_uri": "https://localhost:8080/"
        },
        "id": "0q3CeDBfgV-F",
        "outputId": "7da65e91-a03a-4f91-ac33-aa06a95c2355"
      },
      "execution_count": 71,
      "outputs": [
        {
          "output_type": "execute_result",
          "data": {
            "text/plain": [
              "0.05757356168434922"
            ]
          },
          "metadata": {},
          "execution_count": 71
        }
      ]
    },
    {
      "cell_type": "code",
      "source": [
        "class TriangleEnvironment:\n",
        "    def __init__(self, a_max=max_a, b_max=max_b, c_max=max_c):\n",
        "        \"\"\"\n",
        "        Initialize the environment with valid triangle parameters.\n",
        "        :param a_max, b_max, c_max: Upper limits for triangle parameters.\n",
        "        \"\"\"\n",
        "        self.a_max = a_max\n",
        "        self.b_max = b_max\n",
        "        self.c_max = c_max\n",
        "        self.reset()\n",
        "\n",
        "    def reset(self):\n",
        "        \"\"\"\n",
        "        Resets the environment by initializing a valid triangle.\n",
        "        Keeps generating random values until a valid triangle is found.\n",
        "        Returns the initial state (a, b, c).\n",
        "        \"\"\"\n",
        "        while True:\n",
        "            a = np.random.randint(1, self.a_max)\n",
        "            b = np.random.randint(1, self.b_max)\n",
        "            c = np.random.randint(1, self.c_max)\n",
        "            if self.is_valid_triangle(a, b, c):\n",
        "                self.state = (a, b, c)\n",
        "                return self.state\n",
        "\n",
        "    def step(self, action):\n",
        "        \"\"\"\n",
        "        Applies an action to the current state, ensuring validity.\n",
        "        :param action: Integer from 0 to 6 representing the chosen action.\n",
        "        :return: New state (a, b, c) after applying the action.\n",
        "        \"\"\"\n",
        "        action_vectors = [\n",
        "            (0, 0, 0),  # No change\n",
        "            (-1, 0, 0), # Decrease a\n",
        "            (1, 0, 0),  # Increase a\n",
        "            (0, -1, 0), # Decrease b\n",
        "            (0, 1, 0),  # Increase b\n",
        "            (0, 0, -1), # Decrease c\n",
        "            (0, 0, 1)   # Increase c\n",
        "        ]\n",
        "\n",
        "        for _ in range(10):  # Retry at most 10 times to find a valid action\n",
        "          new_state = np.array(self.state) + np.array(action_vectors[action])\n",
        "\n",
        "          # If valid, update the state and return\n",
        "          if self.is_valid_triangle(*new_state):\n",
        "            self.state = tuple(new_state)\n",
        "            return self.state\n",
        "          else:\n",
        "            # If no valid action return the unchanged state\n",
        "            return self.state\n",
        "\n",
        "    def get_vertices(self):\n",
        "        \"\"\"\n",
        "        Returns the three vertices of the triangle.\n",
        "        :return: A tuple of three points: ((0,0), (a,0), (b,c))\n",
        "        \"\"\"\n",
        "        a, b, c = self.state\n",
        "        return ((0, 0), (a, 0), (b, c))\n",
        "\n",
        "    def is_valid_triangle(self, a, b, c):\n",
        "        \"\"\"\n",
        "        Checks if the triangle is valid.\n",
        "        :param a, b, c: Triangle parameters.\n",
        "        :return: True if the triangle is valid, False otherwise\n",
        "        \"\"\"\n",
        "        if a > 0 and b >= 0 and b < c:\n",
        "            return True\n",
        "        return False\n",
        "\n",
        "class TriangleNN(nn.Module):\n",
        "  def __init__(self, n_layers = n_layers_NN, n_units = n_units_NN):\n",
        "    super(TriangleNN, self).__init__()\n",
        "    self.n_layers = n_layers\n",
        "    self.n_units = n_units\n",
        "\n",
        "    # Input layer\n",
        "    self.fc1 = nn.Linear(3, n_units)  # Use n_units\n",
        "    self.bn1 = nn.BatchNorm1d(n_units)  # Use n_units\n",
        "    self.dropout1 = nn.Dropout(0.2)\n",
        "\n",
        "    # Hidden layers (if any)\n",
        "    self.hidden_layers = nn.ModuleList()\n",
        "    for _ in range(n_layers - 1):  # Create n_layers - 1 hidden layers\n",
        "        self.hidden_layers.append(nn.Linear(n_units, n_units))  # Use n_units\n",
        "        self.hidden_layers.append(nn.BatchNorm1d(n_units))  # Use n_units\n",
        "        self.hidden_layers.append(nn.Dropout(0.2))\n",
        "\n",
        "    # Output layer\n",
        "    self.fc_out = nn.Linear(n_units, 7)  # Use n_units\n",
        "\n",
        "  def forward(self, x):\n",
        "    x = torch.relu(self.bn1(self.fc1(x)))\n",
        "    x = self.dropout1(x)\n",
        "\n",
        "    # Pass through hidden layers (if any)\n",
        "    for layer in self.hidden_layers:\n",
        "        x = layer(x)\n",
        "        if isinstance(layer, nn.Linear):  # Apply ReLU after linear layers\n",
        "            x = torch.relu(x)\n",
        "\n",
        "    x = self.fc_out(x)  # Output layer\n",
        "    return x  # Raw logits\n",
        "\n",
        "  def select_action(model, state, exploration_rate = 0.1):\n",
        "    \"\"\"\n",
        "    Given the current state (a, b, c), predict the best action.\n",
        "    :param model: The trained neural network.\n",
        "    :param state: Tuple (a, b, c).\n",
        "    :return: An action index (0 to 6).\n",
        "    \"\"\"\n",
        "    state_tensor = torch.tensor(state, dtype=torch.float32).unsqueeze(0)  # Convert to tensor\n",
        "    with torch.no_grad():\n",
        "        logits = model(state_tensor)  # Get raw logits\n",
        "        action_probs = torch.softmax(logits, dim=-1).numpy().flatten()  # Apply softmax\n",
        "\n",
        "    # Ensure valid probability distribution\n",
        "    action_probs = np.nan_to_num(action_probs, nan=0.0, posinf=1.0, neginf=0.0)\n",
        "    action_probs /= action_probs.sum()  # Normalize to ensure sum = 1\n",
        "\n",
        "    if np.random.rand() < exploration_rate:  # Exploration step\n",
        "        return np.random.randint(7)  # Pick a random action\n",
        "    else:  # Exploitation step\n",
        "        return np.random.choice(7, p=action_probs)\n",
        "\n",
        "\n",
        "    action = np.random.choice(7, p=action_probs)  # Sample action based on probabilities\n",
        "    return action\n",
        "\n",
        "#######\n",
        "def train_model(model, optimizer, states, actions, log_interval=10):\n",
        "    \"\"\"\n",
        "    Trains the model on elite states and actions.\n",
        "    :param model: The neural network.\n",
        "    :param optimizer: Optimizer for training.\n",
        "    :param states: List of elite states.\n",
        "    :param actions: Corresponding actions.\n",
        "    :param log_interval: How often to print loss.\n",
        "    \"\"\"\n",
        "    criterion = nn.CrossEntropyLoss()\n",
        "    states_tensor = torch.tensor(states, dtype=torch.float32)\n",
        "    actions_tensor = torch.tensor(actions, dtype=torch.long).view(-1)  # Ensure 1D\n",
        "\n",
        "    optimizer.zero_grad()\n",
        "    output = model(states_tensor)\n",
        "    loss = criterion(output, actions_tensor)\n",
        "    loss.backward()\n",
        "    optimizer.step()\n",
        "\n",
        "    ## Log loss occasionally\n",
        "    if random.random() < 1 / log_interval:\n",
        "      print(f\"Training loss: {loss.item():.4f}\")\n",
        "\n",
        "    return loss.item()\n",
        "\n",
        "def play_game(model, envs, number_agents, max_steps=max_number_steps, verbose=1):\n",
        "    \"\"\"\n",
        "    Runs multiple simulations of triangle modifications.\n",
        "\n",
        "    :param model: The neural network for action selection.\n",
        "    :param envs: A list of TriangleEnvironment instances, one per session.\n",
        "    :param number_agents: Number of parallel sessions to run.\n",
        "    :param max_steps: Maximum number of modifications per session.\n",
        "    :param verbose: If 1, prints execution time.\n",
        "\n",
        "    :return: states, actions, total_scores\n",
        "    \"\"\"\n",
        "    # Initialize storage for sessions\n",
        "    states = np.zeros((number_agents, max_steps+1, 3), dtype=int)  # (number_agents, steps, (a, b, c))\n",
        "    actions = np.zeros((number_agents, max_steps), dtype=int)      # (number_agents, steps)\n",
        "    rewards = np.zeros(number_agents)\n",
        "\n",
        "    # Reset environments and store initial states\n",
        "    for i in range(number_agents):\n",
        "        states[i, 0] = envs[i].reset()  # Use each session's own environment\n",
        "\n",
        "    step = 0\n",
        "    pred_time, play_time = 0, 0\n",
        "\n",
        "    while step < max_steps:\n",
        "        step += 1\n",
        "        tic = time.time()\n",
        "\n",
        "        # Predict action probabilities for all current states\n",
        "        state_inputs = torch.tensor(states[:, step - 1], dtype=torch.float32)\n",
        "\n",
        "        #with torch.no_grad():\n",
        "        #    logits = model(state_inputs).cpu().numpy()\n",
        "        #    action_probs = np.exp(logits) / np.sum(np.exp(logits), axis=1, keepdims=True)  # Apply softmax manually\n",
        "\n",
        "        with torch.no_grad():\n",
        "            logits = model(state_inputs)\n",
        "            action_probs = torch.softmax(logits, dim=-1).cpu().numpy()  # Use PyTorch softmax\n",
        "\n",
        "\n",
        "\n",
        "        pred_time += time.time() - tic\n",
        "        tic = time.time()\n",
        "\n",
        "        # Select actions and apply them\n",
        "        for i in range(number_agents):\n",
        "            actions[i, step - 1] = np.random.choice(7, p=action_probs[i])  # Sample action\n",
        "            states[i, step] = envs[i].step(actions[i, step - 1])  # Use correct environment\n",
        "\n",
        "        play_time += time.time() - tic\n",
        "\n",
        "    # Compute rewards for each session\n",
        "    for i in range(number_agents):\n",
        "        final_state = states[i, -1]\n",
        "        if envs[i].is_valid_triangle(*final_state):\n",
        "            rewards[i] = reward_function(*final_state)\n",
        "        else:\n",
        "            rewards[i] = -1  # Penalty for invalid triangles\n",
        "\n",
        "    if verbose:\n",
        "        print(f\"Predict: {pred_time:.3f}s, Play: {play_time:.3f}s\")\n",
        "\n",
        "    return states, actions, rewards\n",
        "# Initialize model and optimizer within the objective function\n",
        "# Initialize environment and model\n",
        "envs = [TriangleEnvironment(a_max=max_a, b_max=max_b, c_max=max_c) for _ in range(number_agents_session)]  # Separate environments\n",
        "model = TriangleNN(n_layers=n_layers_NN, n_units=n_units_NN)\n",
        "# Run play-game loop\n",
        "states, actions, rewards = play_game(model, envs, number_agents_session, max_number_steps, verbose=0)\n",
        "optimizer = optim.Adam(model.parameters(), lr=learning_rate)\n",
        "\n",
        "\n",
        "#######\n",
        "\n",
        "def select_elites(states_batch, actions_batch, rewards_batch, percentile=elite_percentile):\n",
        "    \"\"\"\n",
        "    Selects elite states and actions based on the top percentile rewards.\n",
        "\n",
        "    :param states_batch: Array of all states from multiple sessions.\n",
        "    :param actions_batch: Array of actions corresponding to states.\n",
        "    :param rewards_batch: Array of rewards for each session.\n",
        "    :param percentile: The top percentage of sessions to keep.\n",
        "\n",
        "    :return: elite_states, elite_actions\n",
        "    \"\"\"\n",
        "    reward_threshold = np.percentile(rewards_batch, percentile)  # Compute threshold\n",
        "    elite_states = []\n",
        "    elite_actions = []\n",
        "\n",
        "    for i in range(len(rewards_batch)):\n",
        "        if rewards_batch[i] >= reward_threshold:  # Keep high-reward sessions\n",
        "            for j in range(1, min(len(states_batch[i]), len(actions_batch[i]))):  # Ensure j is within valid range\n",
        "                if j > len(states_batch[i]) // 2:  # Give priority to later states\n",
        "                    elite_states.append(states_batch[i][j])\n",
        "                    elite_actions.append(actions_batch[i][j])\n",
        "\n",
        "    return np.array(elite_states, dtype=np.int32), np.array(elite_actions, dtype=np.int32)\n",
        "\n",
        "\n",
        "\n",
        "def select_super_sessions(states_batch, actions_batch, rewards_batch, percentile=super_elite_percentage ):\n",
        "    \"\"\"\n",
        "    Selects top sessions that survive into the next generation.\n",
        "\n",
        "    :param states_batch: Array of all states from multiple sessions.\n",
        "    :param actions_batch: Array of actions corresponding to states.\n",
        "    :param rewards_batch: Array of rewards for each session.\n",
        "    :param percentile: The top percentage of sessions to keep.\n",
        "\n",
        "    :return: super_states, super_actions, super_rewards\n",
        "    \"\"\"\n",
        "    reward_threshold = np.percentile(rewards_batch, percentile)  # Compute threshold\n",
        "    super_states = []\n",
        "    super_actions = []\n",
        "    super_rewards = []\n",
        "\n",
        "    for i in range(len(rewards_batch)):\n",
        "        if rewards_batch[i] >= reward_threshold:  # Keep high-reward sessions\n",
        "            super_states.append(states_batch[i])\n",
        "            super_actions.append(actions_batch[i])\n",
        "            super_rewards.append(rewards_batch[i])\n",
        "\n",
        "    return np.array(super_states, dtype=object), np.array(super_actions, dtype=object), np.array(super_rewards)\n",
        "\n",
        "# Initialize storage for surviving sessions\n",
        "super_states, super_actions, super_rewards = None, None, None\n",
        "\n",
        "for i in range(n_generations):\n",
        "    # Create multiple environments for parallel sessions\n",
        "    envs = [TriangleEnvironment(a_max=max_a, b_max=max_b, c_max=max_b) for _ in range(number_agents_session)]\n",
        "\n",
        "    # Run play-game loop\n",
        "    states, actions, rewards = play_game(model, envs, number_agents_session, max_number_steps, verbose=0)\n",
        "\n",
        "    # Concatenate current and previous generation's data (if available)\n",
        "    if super_states is not None and len(super_states) > 0:\n",
        "        states = np.concatenate([states, super_states], axis=0)\n",
        "        actions = np.concatenate([actions, super_actions], axis=0)\n",
        "        rewards = np.concatenate([rewards, super_rewards])\n",
        "\n",
        "    # Select elites for training\n",
        "    elite_states, elite_actions = select_elites(states, actions, rewards, percentile= elite_percentile)\n",
        "\n",
        "    # Select survivors for next generation\n",
        "    super_states, super_actions, super_rewards = select_super_sessions(states, actions, rewards, percentile=super_elite_percentage)\n",
        "\n",
        "    # Convert to object type to prevent NumPy errors\n",
        "    super_states = np.array(super_states, dtype=object)\n",
        "    super_actions = np.array(super_actions, dtype=object)\n",
        "    super_rewards = np.array(super_rewards)\n",
        "\n",
        "    # Train the model using elite states & actions\n",
        "    loss = train_model(model, optimizer, elite_states, elite_actions)\n",
        "\n",
        "    # Compute mean and best rewards safely\n",
        "    unique_rewards = np.unique(rewards)\n",
        "    best_reward = np.max(unique_rewards) if len(unique_rewards) > 0 else float('-inf')\n",
        "    mean_reward = np.mean(rewards) if len(rewards) > 0 else float('-inf')\n",
        "\n",
        "    # Store metrics\n",
        "    mean_rewards.append(mean_reward)\n",
        "    best_rewards.append(best_reward)\n",
        "    losses.append(loss)\n",
        "\n",
        "    #Print progress\n",
        "    if i % (n_generations // 4) == 0:\n",
        "      print(f\"Generation {i}: Mean Reward = {mean_reward:.2f}, Best Reward = {best_reward:.2f}, Loss = {loss:.4f}\")\n",
        "\n",
        "    # Ensure we return a valid numeric score to Optuna\n",
        "    #return np.mean(mean_rewards[-10:])  # Use last 10 rewards for stability\n",
        "\n",
        "#Print progress\n",
        "#if i % (n_generations // 4) == 0:\n",
        "#    print(f\"Generation {i}: Mean Reward = {mean_reward:.2f}, Second Reward = {best_reward:.2f}, Loss = {loss:.4f}\")"
      ],
      "metadata": {
        "colab": {
          "base_uri": "https://localhost:8080/"
        },
        "id": "kzgCnG3VLAn8",
        "outputId": "5fd3976b-efbc-4c9e-c04d-8ed56351563b"
      },
      "execution_count": 22,
      "outputs": [
        {
          "metadata": {
            "tags": null
          },
          "name": "stdout",
          "output_type": "stream",
          "text": [
            "Generation 0: Mean Reward = 0.46, Best Reward = 2.22, Loss = 2.1032\n",
            "Training loss: 2.0570\n",
            "Training loss: 2.1074\n",
            "Training loss: 2.0421\n",
            "Training loss: 2.0791\n",
            "Training loss: 2.0772\n",
            "Training loss: 2.0533\n",
            "Training loss: 2.0118\n",
            "Training loss: 2.0840\n",
            "Training loss: 2.0665\n",
            "Training loss: 2.0302\n",
            "Training loss: 2.0792\n",
            "Generation 75: Mean Reward = 1.16, Best Reward = 2.22, Loss = 2.0281\n",
            "Training loss: 2.0354\n",
            "Training loss: 2.0466\n",
            "Training loss: 2.0219\n",
            "Training loss: 2.0237\n",
            "Training loss: 2.0488\n",
            "Training loss: 2.0116\n",
            "Training loss: 2.0137\n",
            "Generation 150: Mean Reward = 1.56, Best Reward = 2.22, Loss = 2.0270\n",
            "Training loss: 2.0269\n",
            "Training loss: 2.0013\n",
            "Training loss: 2.0159\n",
            "Training loss: 2.0105\n",
            "Training loss: 2.0003\n",
            "Training loss: 1.9916\n",
            "Training loss: 1.9980\n",
            "Generation 225: Mean Reward = 1.71, Best Reward = 2.22, Loss = 1.9811\n",
            "Training loss: 1.9820\n",
            "Training loss: 1.9706\n"
          ]
        }
      ]
    },
    {
      "cell_type": "code",
      "source": [
        "mean_rewards[0], solutions"
      ],
      "metadata": {
        "colab": {
          "base_uri": "https://localhost:8080/"
        },
        "id": "jXCyfQYtXjkA",
        "outputId": "38bd7a50-7aac-4c30-d928-1696fa13fa3f"
      },
      "execution_count": 23,
      "outputs": [
        {
          "data": {
            "text/plain": [
              "(0.4619944188867493, {(1, 7, 16), (1, 10, 16), (2, 5, 8)})"
            ]
          },
          "execution_count": 23,
          "metadata": {},
          "output_type": "execute_result"
        }
      ]
    },
    {
      "cell_type": "code",
      "source": [
        "reward_elliptic_pairs = reward_function(2,5,8)\n",
        "plt.figure(figsize=(10, 5))\n",
        "plt.plot(mean_rewards, label=\"Mean Rewards\", linewidth=2)\n",
        "plt.axhline(y=reward_elliptic_pairs, color='black', label=\"Maximum Reward\",linestyle='--')  # Vertical line at d = 1\n",
        "#plt.plot(best_rewards, label=\"Second Reward\", linestyle=\"dashed\", linewidth=2, color=\"orange\")\n",
        "plt.xlabel(\"Number of Generations\")\n",
        "plt.ylabel(\"Mean Reward\")\n",
        "plt.title(f\"Average reward among {number_agents_session:.0f} agents taking {max_number_steps:.0f} steps over {n_generations:.0f} Generations (E={elite_percentile:.0f}, SE ={super_elite_percentage:.0f})\")\n",
        "plt.legend()\n",
        "plt.grid(True, linestyle=\"--\", alpha=0.6)\n",
        "plt.show()"
      ],
      "metadata": {
        "colab": {
          "base_uri": "https://localhost:8080/",
          "height": 350
        },
        "id": "vcTKygYjMEwS",
        "outputId": "cfd911f8-a067-47fb-a0c3-9c300d251ea9"
      },
      "execution_count": 24,
      "outputs": [
        {
          "data": {
            "image/png": "[encoded data removed]",
            "text/plain": [
              "<Figure size 720x360 with 1 Axes>"
            ]
          },
          "metadata": {},
          "output_type": "display_data"
        }
      ]
    },
    {
      "cell_type": "code",
      "source": [
        "plt.figure(figsize=(10, 5))\n",
        "plt.plot(losses, label=\"Training Loss\", linewidth=2, color=\"red\")\n",
        "plt.xlabel(\"Number of Generations\")\n",
        "plt.ylabel(\"Loss\")\n",
        "plt.title(\"Training Loss Over Generations\")\n",
        "plt.legend()\n",
        "plt.grid(True, linestyle=\"--\", alpha=0.6)\n",
        "plt.show()"
      ],
      "metadata": {
        "colab": {
          "base_uri": "https://localhost:8080/",
          "height": 350
        },
        "id": "FgNXk7ybM2wQ",
        "outputId": "35705d93-74e8-4725-e6cd-c9d42da93c60"
      },
      "execution_count": 25,
      "outputs": [
        {
          "data": {
            "image/png": "[encoded data removed]",
            "text/plain": [
              "<Figure size 720x360 with 1 Axes>"
            ]
          },
          "metadata": {},
          "output_type": "display_data"
        }
      ]
    },
    {
      "cell_type": "code",
      "source": [
        "solutions"
      ],
      "metadata": {
        "colab": {
          "base_uri": "https://localhost:8080/"
        },
        "id": "YfJGJzy2uZ6Y",
        "outputId": "2c8429f5-f58d-45e8-b6f9-2cc9d39fa5f9"
      },
      "execution_count": 26,
      "outputs": [
        {
          "data": {
            "text/plain": [
              "{(1, 7, 16), (1, 10, 16), (2, 5, 8)}"
            ]
          },
          "execution_count": 26,
          "metadata": {},
          "output_type": "execute_result"
        }
      ]
    },
    {
      "cell_type": "markdown",
      "source": [
        "# **The following is the study of the reward function and the its execution times**"
      ],
      "metadata": {
        "id": "aPw1ChleM3ZH"
      }
    },
    {
      "cell_type": "code",
      "source": [
        "#cProfile.run('reward_function(2, 5, 8)')\n",
        "start_time = time.time()\n",
        "print( reward_function(2, 5, 8) )\n",
        "end_time = time.time()\n",
        "elapsed_time = end_time - start_time\n",
        "print(f\"Elapsed time: {elapsed_time:.4f} seconds\")"
      ],
      "metadata": {
        "id": "MlL8G-VIgQM0",
        "colab": {
          "base_uri": "https://localhost:8080/"
        },
        "outputId": "a34bd7af-548e-4d9a-c031-56903239b69e"
      },
      "execution_count": 27,
      "outputs": [
        {
          "metadata": {
            "tags": null
          },
          "name": "stdout",
          "output_type": "stream",
          "text": [
            "2.1291005891761965\n",
            "Elapsed time: 0.0803 seconds\n"
          ]
        }
      ]
    },
    {
      "cell_type": "code",
      "source": [
        "#sample_number = 30\n",
        "sampled_triples = set()\n",
        "\n",
        "all_sample_times = []\n",
        "all_sample_rewards = []\n",
        "all_sample_area = []\n",
        "\n",
        "bounded_times = []\n",
        "bounded_rewards = []\n",
        "bounded_area = []\n",
        "\n",
        "#while (len(sampled_triples) < sample_number ) or ( len(bounded_times) < 100):\n",
        "while len(bounded_times) < 10:\n",
        "    a = random.randint(1, max_a)\n",
        "    c = random.randint(1, max_c)\n",
        "    b = random.randint(0, c)\n",
        "    sampled_triples.add((a, b, c))  #Add directly the triple in a set.\n",
        "    start_time = time.time()\n",
        "    reward = reward_function(a,b,c)\n",
        "    end_time = time.time()\n",
        "    elapsed_time = round(end_time - start_time,4)\n",
        "    all_sample_times.append(elapsed_time)\n",
        "    all_sample_rewards.append(reward)\n",
        "    all_sample_area.append( 1/2*a*c )\n",
        "    if elapsed_time < 1:\n",
        "      bounded_times.append(elapsed_time)\n",
        "      bounded_rewards.append(reward)\n",
        "      bounded_area.append( 1/2*a*c )\n",
        "\n",
        "print( len(sampled_triples), len(all_sample_times), len(bounded_times) )"
      ],
      "metadata": {
        "id": "TYQucBlCyLg9",
        "colab": {
          "base_uri": "https://localhost:8080/"
        },
        "outputId": "f9ca2d6e-2499-4a5d-8181-9ac3fbb7141a"
      },
      "execution_count": 28,
      "outputs": [
        {
          "metadata": {
            "tags": null
          },
          "name": "stdout",
          "output_type": "stream",
          "text": [
            "11 11 10\n"
          ]
        }
      ]
    },
    {
      "cell_type": "code",
      "source": [
        "all_times_array  = np.array(all_sample_times)\n",
        "all_rewards_array = np.array(all_sample_rewards)\n",
        "all_area_array  = np.array(all_sample_area)\n",
        "\n",
        "bounded_times_array  = np.array(bounded_times)\n",
        "bounded_rewards_array = np.array(bounded_rewards)\n",
        "bounded_area_array  = np.array(bounded_area)\n",
        "\n",
        "# Calculate statistics\n",
        "mean_all_time = np.mean(all_times_array)\n",
        "max_all_time = np.max(all_times_array)\n",
        "min_all_time = np.min(all_times_array)\n",
        "median_all_time = np.median(all_times_array)\n",
        "\n",
        "mean_bounded_time = np.mean(bounded_times_array)\n",
        "max_bounded_time = np.max(bounded_times_array)\n",
        "min_bounded_time = np.min(bounded_times_array)\n",
        "median_bounded_time = np.median(bounded_times_array)\n",
        "\n",
        "all_mean_reward = np.mean(all_rewards_array)\n",
        "all_max_reward = np.max(all_rewards_array)\n",
        "all_min_reward = np.min(all_rewards_array)\n",
        "\n",
        "bounded_mean_reward = np.mean(bounded_rewards_array)\n",
        "bounded_max_reward = np.max(bounded_rewards_array)\n",
        "bounded_min_reward = np.min(bounded_rewards_array)\n",
        "\n",
        "all_mean_area = np.mean(all_area_array)\n",
        "all_max_area = np.max(all_area_array)\n",
        "all_min_area = np.min(all_area_array)"
      ],
      "metadata": {
        "id": "44GPYNGTjF84"
      },
      "execution_count": 29,
      "outputs": []
    },
    {
      "cell_type": "code",
      "source": [
        "np.std(bounded_times_array)"
      ],
      "metadata": {
        "colab": {
          "base_uri": "https://localhost:8080/"
        },
        "id": "rxfJYBRu0sjw",
        "outputId": "2dc976c6-9e4c-40fb-92ac-056b2bf8c59b"
      },
      "execution_count": 30,
      "outputs": [
        {
          "data": {
            "text/plain": [
              "0.23450208719753435"
            ]
          },
          "execution_count": 30,
          "metadata": {},
          "output_type": "execute_result"
        }
      ]
    },
    {
      "cell_type": "code",
      "source": [
        "plt.figure(figsize=(10, 6))\n",
        "\n",
        "# Plot for times_array\n",
        "sorted_times = np.sort(all_times_array)\n",
        "y_values = np.arange(1, len(sorted_times) + 1) / len(sorted_times)\n",
        "plt.plot(sorted_times, y_values, color=\"#2980b9\", linestyle=\"None\", marker=\"x\", label=\"Execution times\")\n",
        "\n",
        "# Plot for bounded_times_array\n",
        "sorted_bounded_times = np.sort(bounded_times_array)\n",
        "y_bounded_values = np.arange(1, len(sorted_bounded_times) + 1) / len(sorted_bounded_times)\n",
        "plt.plot(sorted_bounded_times, y_bounded_values, color=\"green\", linestyle=\"None\", marker=\"^\", label=\"Bounded Execution times\")\n",
        "\n",
        "plt.xlabel(\"Execution Time of Reward Function (seconds)\", fontsize=12)\n",
        "plt.ylabel(\"Cumulative Probability\", fontsize=12)\n",
        "plt.title(\"Execution Times for Reward Function (Bounded and Unbounded)\", fontsize=14, fontweight=\"bold\")\n",
        "\n",
        "plt.grid(True, linestyle=\"--\", alpha=0.7)\n",
        "\n",
        "# Text for bounded_times_array statistics\n",
        "textstr_bounded = '\\n'.join((\n",
        "    r'Bounded data:',\n",
        "    r'$ mean = %.4f$' % (mean_bounded_time,),\n",
        "    r'$\\mathrm{median}=%.4f$' % (median_bounded_time,),\n",
        "    r'$\\max=%.4f$' % (max_bounded_time,),\n",
        "    r'$\\min=%.4f$' % (min_bounded_time,)))\n",
        "\n",
        "props = dict(boxstyle='round', facecolor='white', alpha=0.5)\n",
        "\n",
        "# Place both text boxes on the plot\n",
        "#plt.text(0.145, 0.85, textstr, transform=plt.gca().transAxes, fontsize=10,\n",
        "#         verticalalignment='top', bbox=props, ha='right')\n",
        "plt.text(0.145, 0.85, textstr_bounded, transform=plt.gca().transAxes, fontsize=10,\n",
        "         verticalalignment='top', bbox=props, ha='right')\n",
        "\n",
        "plt.legend()\n",
        "plt.tight_layout()\n",
        "plt.show()"
      ],
      "metadata": {
        "colab": {
          "base_uri": "https://localhost:8080/",
          "height": 441
        },
        "id": "t-4n5LdSK_Rz",
        "outputId": "49108463-5f8e-46dd-8ee0-75509138e735"
      },
      "execution_count": 31,
      "outputs": [
        {
          "data": {
            "image/png": "[encoded data removed]",
            "text/plain": [
              "<Figure size 720x432 with 1 Axes>"
            ]
          },
          "metadata": {},
          "output_type": "display_data"
        }
      ]
    },
    {
      "cell_type": "code",
      "source": [
        "# Create the histogram\n",
        "\n",
        "plt.hist(bounded_times_array, bins=100, alpha=0.7, label='Execution')\n",
        "\n",
        "# Text for bounded_times_array statistics\n",
        "textstr_bounded = '\\n'.join((\n",
        "    r'$ mean = %.4f$' % (mean_bounded_time,),\n",
        "    r'$\\mathrm{median}=%.4f$' % (median_bounded_time,),\n",
        "    r'$\\max=%.4f$' % (max_bounded_time,),\n",
        "    r'$\\min=%.4f$' % (min_bounded_time,)))\n",
        "\n",
        "\n",
        "props = dict(boxstyle='round', facecolor='white', alpha=0.5)\n",
        "\n",
        "# Place both text boxes on the plot\n",
        "plt.text(0.975, 0.95, textstr_bounded, transform=plt.gca().transAxes, fontsize=10,\n",
        "         verticalalignment='top', bbox=props, ha='right')\n",
        "\n",
        "#plt.legend()\n",
        "# Customize the plot\n",
        "plt.xlabel(\"Execution time\")\n",
        "plt.ylabel(\"Frequency\")\n",
        "plt.title(\"Executions time for the reward function\")\n",
        "\n",
        "plt.tight_layout()\n",
        "plt.show()\n",
        "\n"
      ],
      "metadata": {
        "colab": {
          "base_uri": "https://localhost:8080/",
          "height": 297
        },
        "id": "6AEb-y83Z1AT",
        "outputId": "32f87aed-cebf-4d0e-cc6d-fdb8736796c3"
      },
      "execution_count": 32,
      "outputs": [
        {
          "data": {
            "image/png": "[encoded data removed]",
            "text/plain": [
              "<Figure size 432x288 with 1 Axes>"
            ]
          },
          "metadata": {},
          "output_type": "display_data"
        }
      ]
    },
    {
      "cell_type": "code",
      "source": [
        "plt.figure(figsize=(8, 6))\n",
        "plt.scatter(all_area_array, all_times_array)\n",
        "plt.scatter(bounded_area_array, bounded_times_array, label = \"Rewards that can be calculated\")\n",
        "plt.xlabel(\"Area of the triangle\")\n",
        "plt.ylabel(\"Execution Time -- bounded to 1 second\")\n",
        "plt.title(\"Execution time of the reward function vs. Area of the triangle\")\n",
        "plt.grid(True)\n",
        "plt.legend()\n",
        "plt.show()"
      ],
      "metadata": {
        "colab": {
          "base_uri": "https://localhost:8080/",
          "height": 404
        },
        "id": "SDycocY7_s66",
        "outputId": "0441a87d-d5e7-438c-bb92-c4b454aaed23"
      },
      "execution_count": 33,
      "outputs": [
        {
          "data": {
            "image/png": "[encoded data removed]",
            "text/plain": [
              "<Figure size 576x432 with 1 Axes>"
            ]
          },
          "metadata": {},
          "output_type": "display_data"
        }
      ]
    },
    {
      "cell_type": "code",
      "source": [
        "# Create the histogram\n",
        "\n",
        "plt.hist(bounded_rewards_array, bins=100, alpha=0.7, label='Bounded Rewards')  # Adjust the number of bins as needed\n",
        "# Text for reward statistics\n",
        "textstr_rewards = '\\n'.join((\n",
        "    r'Rewards:',\n",
        "#    r'$ mean (all)= %.4f$' % (mean_reward,),\n",
        "#    r'$\\max (all) = %.4f$' % (max_reward,),\n",
        "#    r'$\\min (all) = %.4f$' % (min_reward,),\n",
        "    r'$ mean = %.4f$' % (bounded_mean_reward,),\n",
        "    r'$\\max = %.4f$' % (bounded_max_reward,),\n",
        "    r'$\\min = %.4f$' % (bounded_min_reward,)\n",
        "    ))\n",
        "\n",
        "\n",
        "props = dict(boxstyle='round', facecolor='white', alpha=0.5)\n",
        "\n",
        "# Place both text boxes on the plot\n",
        "plt.text(0.975, 0.75, textstr_rewards, transform=plt.gca().transAxes, fontsize=10,\n",
        "         verticalalignment='top', bbox=props, ha='right')\n",
        "\n",
        "#plt.legend()\n",
        "# Customize the plot\n",
        "plt.xlabel(\"Rewards\")\n",
        "plt.ylabel(\"Frequency\")\n",
        "plt.title(\"Histogram of Rewards\")\n",
        "\n",
        "plt.tight_layout()\n",
        "plt.show()"
      ],
      "metadata": {
        "colab": {
          "base_uri": "https://localhost:8080/",
          "height": 297
        },
        "id": "X8IS80KVC2Ji",
        "outputId": "fc77bfc8-4a09-4dde-8600-b1a0e6cf1d02"
      },
      "execution_count": 34,
      "outputs": [
        {
          "data": {
            "image/png": "[encoded data removed]",
            "text/plain": [
              "<Figure size 432x288 with 1 Axes>"
            ]
          },
          "metadata": {},
          "output_type": "display_data"
        }
      ]
    }
  ]
}